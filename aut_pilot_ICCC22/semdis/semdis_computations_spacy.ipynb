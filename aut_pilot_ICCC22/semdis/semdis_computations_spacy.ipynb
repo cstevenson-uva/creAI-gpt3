{
 "cells": [
  {
   "cell_type": "code",
   "execution_count": 1,
   "id": "32b319ec-32a1-46a3-a1e5-af1e9fcd21d9",
   "metadata": {},
   "outputs": [],
   "source": [
    "import spacy"
   ]
  },
  {
   "cell_type": "code",
   "execution_count": 29,
   "id": "bfdb819e-b091-41e7-8156-95d9dfb86d84",
   "metadata": {},
   "outputs": [],
   "source": [
    "%%capture\n",
    "#!python -m spacy download nl_core_news_lg\n",
    "!python -m spacy download en_core_web_lg"
   ]
  },
  {
   "cell_type": "code",
   "execution_count": 30,
   "id": "37e3033b-e4d9-46bd-986a-b9b932e267c1",
   "metadata": {},
   "outputs": [
    {
     "name": "stdout",
     "output_type": "stream",
     "text": [
      "[('This', 'PRON'), ('is', 'AUX'), ('a', 'DET'), ('sentence', 'NOUN'), ('.', 'PUNCT')]\n"
     ]
    }
   ],
   "source": [
    "import en_core_web_lg\n",
    "nlp = en_core_web_lg.load()\n",
    "doc = nlp(\"This is a sentence.\")\n",
    "print([(w.text, w.pos_) for w in doc])"
   ]
  },
  {
   "cell_type": "code",
   "execution_count": 31,
   "id": "d0c65e9c-f2da-4ddf-9fba-5e128dd9019d",
   "metadata": {},
   "outputs": [
    {
     "data": {
      "text/plain": [
       "array([-0.0693734 ,  0.26776582, -0.13480794,  0.026144  ,  0.0945714 ,\n",
       "       -0.1304826 ,  0.0398684 , -0.30131537,  0.0163348 ,  2.28744   ],\n",
       "      dtype=float32)"
      ]
     },
     "execution_count": 31,
     "metadata": {},
     "output_type": "execute_result"
    }
   ],
   "source": [
    "doc.vector[:10]"
   ]
  },
  {
   "cell_type": "code",
   "execution_count": 32,
   "id": "78c9f48f-209c-43cb-a338-e8092b102abc",
   "metadata": {},
   "outputs": [],
   "source": [
    "import pandas as pd\n",
    "import numpy as np"
   ]
  },
  {
   "cell_type": "code",
   "execution_count": 33,
   "id": "aa6f4e13-f07f-4255-9a8e-78b9cfe244b0",
   "metadata": {},
   "outputs": [
    {
     "data": {
      "text/html": [
       "<div>\n",
       "<style scoped>\n",
       "    .dataframe tbody tr th:only-of-type {\n",
       "        vertical-align: middle;\n",
       "    }\n",
       "\n",
       "    .dataframe tbody tr th {\n",
       "        vertical-align: top;\n",
       "    }\n",
       "\n",
       "    .dataframe thead th {\n",
       "        text-align: right;\n",
       "    }\n",
       "</style>\n",
       "<table border=\"1\" class=\"dataframe\">\n",
       "  <thead>\n",
       "    <tr style=\"text-align: right;\">\n",
       "      <th></th>\n",
       "      <th>id</th>\n",
       "      <th>item</th>\n",
       "      <th>response</th>\n",
       "      <th>response_id</th>\n",
       "      <th>object</th>\n",
       "      <th>respondent_id</th>\n",
       "      <th>temperature</th>\n",
       "    </tr>\n",
       "  </thead>\n",
       "  <tbody>\n",
       "    <tr>\n",
       "      <th>0</th>\n",
       "      <td>1</td>\n",
       "      <td>chair</td>\n",
       "      <td>doorstop</td>\n",
       "      <td>2022040001</td>\n",
       "      <td>book</td>\n",
       "      <td>cmpl-4zrXKRorn55iQY1NXc3Vq3WKCLtyf</td>\n",
       "      <td>0.67</td>\n",
       "    </tr>\n",
       "    <tr>\n",
       "      <th>1</th>\n",
       "      <td>2</td>\n",
       "      <td>chair</td>\n",
       "      <td>start a fire</td>\n",
       "      <td>2022040002</td>\n",
       "      <td>book</td>\n",
       "      <td>cmpl-4zrXKRorn55iQY1NXc3Vq3WKCLtyf</td>\n",
       "      <td>0.67</td>\n",
       "    </tr>\n",
       "    <tr>\n",
       "      <th>2</th>\n",
       "      <td>3</td>\n",
       "      <td>chair</td>\n",
       "      <td>prop up a table or chair leg</td>\n",
       "      <td>2022040003</td>\n",
       "      <td>book</td>\n",
       "      <td>cmpl-4zrXKRorn55iQY1NXc3Vq3WKCLtyf</td>\n",
       "      <td>0.67</td>\n",
       "    </tr>\n",
       "    <tr>\n",
       "      <th>3</th>\n",
       "      <td>4</td>\n",
       "      <td>chair</td>\n",
       "      <td>paperweight</td>\n",
       "      <td>2022040004</td>\n",
       "      <td>book</td>\n",
       "      <td>cmpl-4zrXKRorn55iQY1NXc3Vq3WKCLtyf</td>\n",
       "      <td>0.67</td>\n",
       "    </tr>\n",
       "    <tr>\n",
       "      <th>4</th>\n",
       "      <td>5</td>\n",
       "      <td>chair</td>\n",
       "      <td>make art such as by decoupaging it onto a canv...</td>\n",
       "      <td>2022040005</td>\n",
       "      <td>book</td>\n",
       "      <td>cmpl-4zrXKRorn55iQY1NXc3Vq3WKCLtyf</td>\n",
       "      <td>0.67</td>\n",
       "    </tr>\n",
       "    <tr>\n",
       "      <th>...</th>\n",
       "      <td>...</td>\n",
       "      <td>...</td>\n",
       "      <td>...</td>\n",
       "      <td>...</td>\n",
       "      <td>...</td>\n",
       "      <td>...</td>\n",
       "      <td>...</td>\n",
       "    </tr>\n",
       "    <tr>\n",
       "      <th>1638</th>\n",
       "      <td>1639</td>\n",
       "      <td>chair</td>\n",
       "      <td>rolls</td>\n",
       "      <td>20167316</td>\n",
       "      <td>tin can</td>\n",
       "      <td>BP20160002</td>\n",
       "      <td>NaN</td>\n",
       "    </tr>\n",
       "    <tr>\n",
       "      <th>1639</th>\n",
       "      <td>1640</td>\n",
       "      <td>chair</td>\n",
       "      <td>money box</td>\n",
       "      <td>20167317</td>\n",
       "      <td>tin can</td>\n",
       "      <td>BP20160002</td>\n",
       "      <td>NaN</td>\n",
       "    </tr>\n",
       "    <tr>\n",
       "      <th>1640</th>\n",
       "      <td>1641</td>\n",
       "      <td>chair</td>\n",
       "      <td>seat cover</td>\n",
       "      <td>20167318</td>\n",
       "      <td>tin can</td>\n",
       "      <td>BP20160002</td>\n",
       "      <td>NaN</td>\n",
       "    </tr>\n",
       "    <tr>\n",
       "      <th>1641</th>\n",
       "      <td>1642</td>\n",
       "      <td>chair</td>\n",
       "      <td>reflector on bicycle</td>\n",
       "      <td>20167319</td>\n",
       "      <td>tin can</td>\n",
       "      <td>BP20160002</td>\n",
       "      <td>NaN</td>\n",
       "    </tr>\n",
       "    <tr>\n",
       "      <th>1642</th>\n",
       "      <td>1643</td>\n",
       "      <td>chair</td>\n",
       "      <td>ashtray</td>\n",
       "      <td>20167320</td>\n",
       "      <td>tin can</td>\n",
       "      <td>BP20160002</td>\n",
       "      <td>NaN</td>\n",
       "    </tr>\n",
       "  </tbody>\n",
       "</table>\n",
       "<p>1643 rows × 7 columns</p>\n",
       "</div>"
      ],
      "text/plain": [
       "        id   item                                           response  \\\n",
       "0        1  chair                                           doorstop   \n",
       "1        2  chair                                       start a fire   \n",
       "2        3  chair                       prop up a table or chair leg   \n",
       "3        4  chair                                        paperweight   \n",
       "4        5  chair  make art such as by decoupaging it onto a canv...   \n",
       "...    ...    ...                                                ...   \n",
       "1638  1639  chair                                              rolls   \n",
       "1639  1640  chair                                          money box   \n",
       "1640  1641  chair                                         seat cover   \n",
       "1641  1642  chair                               reflector on bicycle   \n",
       "1642  1643  chair                                            ashtray   \n",
       "\n",
       "      response_id   object                       respondent_id  temperature  \n",
       "0      2022040001     book  cmpl-4zrXKRorn55iQY1NXc3Vq3WKCLtyf         0.67  \n",
       "1      2022040002     book  cmpl-4zrXKRorn55iQY1NXc3Vq3WKCLtyf         0.67  \n",
       "2      2022040003     book  cmpl-4zrXKRorn55iQY1NXc3Vq3WKCLtyf         0.67  \n",
       "3      2022040004     book  cmpl-4zrXKRorn55iQY1NXc3Vq3WKCLtyf         0.67  \n",
       "4      2022040005     book  cmpl-4zrXKRorn55iQY1NXc3Vq3WKCLtyf         0.67  \n",
       "...           ...      ...                                 ...          ...  \n",
       "1638     20167316  tin can                          BP20160002          NaN  \n",
       "1639     20167317  tin can                          BP20160002          NaN  \n",
       "1640     20167318  tin can                          BP20160002          NaN  \n",
       "1641     20167319  tin can                          BP20160002          NaN  \n",
       "1642     20167320  tin can                          BP20160002          NaN  \n",
       "\n",
       "[1643 rows x 7 columns]"
      ]
     },
     "execution_count": 33,
     "metadata": {},
     "output_type": "execute_result"
    }
   ],
   "source": [
    "dat = pd.read_csv(\"aut_semdis_input.csv\")\n",
    "dat"
   ]
  },
  {
   "cell_type": "code",
   "execution_count": 61,
   "id": "626110e9-7a25-4b63-9c3b-9db879a272e9",
   "metadata": {},
   "outputs": [],
   "source": [
    "eucl_item_resp = [np.linalg.norm(x.vector - y.vector) for x,y in zip(nlp.pipe(dat.item.values), nlp.pipe(dat.response.values))]\n",
    "eucl_objc_resp = [np.linalg.norm(x.vector - y.vector) for x,y in zip(nlp.pipe(dat.object.values), nlp.pipe(dat.response.values))]"
   ]
  },
  {
   "cell_type": "code",
   "execution_count": 38,
   "id": "7a5ab566-aad3-4ba3-96f2-12f380442653",
   "metadata": {},
   "outputs": [
    {
     "name": "stderr",
     "output_type": "stream",
     "text": [
      "/var/folders/yd/hdk69w9n5lv3pq9zq2jq1y5w0000gn/T/ipykernel_39908/717211845.py:1: RuntimeWarning: invalid value encountered in float_scalars\n",
      "  cos_sim = lambda x,y: np.dot(x,y)/np.linalg.norm(x)/np.linalg.norm(y)\n"
     ]
    }
   ],
   "source": [
    "cos_sim = lambda x,y: np.dot(x,y)/np.linalg.norm(x)/np.linalg.norm(y)\n",
    "cos_dist_item_resp = [1-cos_sim(x.vector,y.vector) for x,y in zip(nlp.pipe(dat.item.values), nlp.pipe(dat.response.values))]"
   ]
  },
  {
   "cell_type": "code",
   "execution_count": 47,
   "id": "b6b38b1e-6a9e-4a59-aa4b-27dc1364d108",
   "metadata": {},
   "outputs": [
    {
     "name": "stdout",
     "output_type": "stream",
     "text": [
      "nr of errors:  1\n",
      " elements with error: [971]\n"
     ]
    },
    {
     "data": {
      "image/png": "[encoded data removed]",
      "text/plain": [
       "<Figure size 432x288 with 1 Axes>"
      ]
     },
     "metadata": {
      "needs_background": "light"
     },
     "output_type": "display_data"
    }
   ],
   "source": [
    "pd.DataFrame({\"cos\":cos_dist_item_resp}).hist()\n",
    "print(\"nr of errors: \", np.sum(np.isnan(cos_dist_item_resp)))\n",
    "print(\" elements with error: %s\" % (np.where(np.isnan(cos_dist_item_resp) == True)))"
   ]
  },
  {
   "cell_type": "code",
   "execution_count": 52,
   "id": "7990de76-9cd8-4990-b2a6-29b540a73193",
   "metadata": {},
   "outputs": [
    {
     "name": "stdout",
     "output_type": "stream",
     "text": [
      "id                       972\n",
      "item                   chair\n",
      "response         firelighter\n",
      "response_id         20161284\n",
      "object                  book\n",
      "respondent_id     BP20160029\n",
      "temperature              NaN\n",
      "Name: 971, dtype: object\n"
     ]
    },
    {
     "data": {
      "text/plain": [
       "array([0., 0., 0., 0., 0., 0., 0., 0., 0., 0., 0., 0., 0., 0., 0., 0., 0.,\n",
       "       0., 0., 0., 0., 0., 0., 0., 0., 0., 0., 0., 0., 0., 0., 0., 0., 0.,\n",
       "       0., 0., 0., 0., 0., 0., 0., 0., 0., 0., 0., 0., 0., 0., 0., 0., 0.,\n",
       "       0., 0., 0., 0., 0., 0., 0., 0., 0., 0., 0., 0., 0., 0., 0., 0., 0.,\n",
       "       0., 0., 0., 0., 0., 0., 0., 0., 0., 0., 0., 0., 0., 0., 0., 0., 0.,\n",
       "       0., 0., 0., 0., 0., 0., 0., 0., 0., 0., 0., 0., 0., 0., 0., 0., 0.,\n",
       "       0., 0., 0., 0., 0., 0., 0., 0., 0., 0., 0., 0., 0., 0., 0., 0., 0.,\n",
       "       0., 0., 0., 0., 0., 0., 0., 0., 0., 0., 0., 0., 0., 0., 0., 0., 0.,\n",
       "       0., 0., 0., 0., 0., 0., 0., 0., 0., 0., 0., 0., 0., 0., 0., 0., 0.,\n",
       "       0., 0., 0., 0., 0., 0., 0., 0., 0., 0., 0., 0., 0., 0., 0., 0., 0.,\n",
       "       0., 0., 0., 0., 0., 0., 0., 0., 0., 0., 0., 0., 0., 0., 0., 0., 0.,\n",
       "       0., 0., 0., 0., 0., 0., 0., 0., 0., 0., 0., 0., 0., 0., 0., 0., 0.,\n",
       "       0., 0., 0., 0., 0., 0., 0., 0., 0., 0., 0., 0., 0., 0., 0., 0., 0.,\n",
       "       0., 0., 0., 0., 0., 0., 0., 0., 0., 0., 0., 0., 0., 0., 0., 0., 0.,\n",
       "       0., 0., 0., 0., 0., 0., 0., 0., 0., 0., 0., 0., 0., 0., 0., 0., 0.,\n",
       "       0., 0., 0., 0., 0., 0., 0., 0., 0., 0., 0., 0., 0., 0., 0., 0., 0.,\n",
       "       0., 0., 0., 0., 0., 0., 0., 0., 0., 0., 0., 0., 0., 0., 0., 0., 0.,\n",
       "       0., 0., 0., 0., 0., 0., 0., 0., 0., 0., 0.], dtype=float32)"
      ]
     },
     "execution_count": 52,
     "metadata": {},
     "output_type": "execute_result"
    }
   ],
   "source": [
    "print(dat.iloc[971])\n",
    "nlp(dat.iloc[971].response).vector"
   ]
  },
  {
   "cell_type": "code",
   "execution_count": 60,
   "id": "738b3376-b4e9-46b7-ad75-1fca94a090ba",
   "metadata": {},
   "outputs": [],
   "source": [
    "cos_dist_item_resp[971] = 1-cos_sim(nlp(\"fire lighter\").vector, nlp(\"chair\").vector) "
   ]
  },
  {
   "cell_type": "code",
   "execution_count": 62,
   "id": "7ba1c8c6-a1bb-4e9d-8ad0-01478d41fb89",
   "metadata": {},
   "outputs": [
    {
     "name": "stderr",
     "output_type": "stream",
     "text": [
      "/var/folders/yd/hdk69w9n5lv3pq9zq2jq1y5w0000gn/T/ipykernel_39908/717211845.py:1: RuntimeWarning: invalid value encountered in float_scalars\n",
      "  cos_sim = lambda x,y: np.dot(x,y)/np.linalg.norm(x)/np.linalg.norm(y)\n"
     ]
    }
   ],
   "source": [
    "cos_dist_objc_resp = [1-cos_sim(x.vector,y.vector) for x,y in zip(nlp.pipe(dat.object.values), nlp.pipe(dat.response.values))]"
   ]
  },
  {
   "cell_type": "code",
   "execution_count": 64,
   "id": "4dde699a-7e03-4bda-86a4-50377426af91",
   "metadata": {},
   "outputs": [],
   "source": [
    "cos_dist_objc_resp[971] = 1-cos_sim(nlp(\"fire lighter\").vector, nlp(\"book\").vector) "
   ]
  },
  {
   "cell_type": "code",
   "execution_count": 65,
   "id": "c7c47169-f1a9-4365-9875-5f0087194000",
   "metadata": {},
   "outputs": [],
   "source": [
    "dat['eucl_item_resp'] = eucl_item_resp\n",
    "dat['eucl_objc_resp'] = eucl_objc_resp\n",
    "dat['cos_dist_item_resp'] = cos_dist_item_resp\n",
    "dat['cos_dist_objc_resp'] = cos_dist_objc_resp"
   ]
  },
  {
   "cell_type": "code",
   "execution_count": 66,
   "id": "e8b49a07-2aa7-49aa-accd-71774c10929d",
   "metadata": {},
   "outputs": [
    {
     "data": {
      "text/html": [
       "<div>\n",
       "<style scoped>\n",
       "    .dataframe tbody tr th:only-of-type {\n",
       "        vertical-align: middle;\n",
       "    }\n",
       "\n",
       "    .dataframe tbody tr th {\n",
       "        vertical-align: top;\n",
       "    }\n",
       "\n",
       "    .dataframe thead th {\n",
       "        text-align: right;\n",
       "    }\n",
       "</style>\n",
       "<table border=\"1\" class=\"dataframe\">\n",
       "  <thead>\n",
       "    <tr style=\"text-align: right;\">\n",
       "      <th></th>\n",
       "      <th>id</th>\n",
       "      <th>item</th>\n",
       "      <th>response</th>\n",
       "      <th>response_id</th>\n",
       "      <th>object</th>\n",
       "      <th>respondent_id</th>\n",
       "      <th>temperature</th>\n",
       "      <th>eucl_item_resp</th>\n",
       "      <th>eucl_objc_resp</th>\n",
       "      <th>cos_dist_item_resp</th>\n",
       "      <th>cos_dist_objc_resp</th>\n",
       "    </tr>\n",
       "  </thead>\n",
       "  <tbody>\n",
       "    <tr>\n",
       "      <th>0</th>\n",
       "      <td>1</td>\n",
       "      <td>chair</td>\n",
       "      <td>doorstop</td>\n",
       "      <td>2022040001</td>\n",
       "      <td>book</td>\n",
       "      <td>cmpl-4zrXKRorn55iQY1NXc3Vq3WKCLtyf</td>\n",
       "      <td>0.67</td>\n",
       "      <td>8.658492</td>\n",
       "      <td>8.365611</td>\n",
       "      <td>0.854830</td>\n",
       "      <td>0.847086</td>\n",
       "    </tr>\n",
       "    <tr>\n",
       "      <th>1</th>\n",
       "      <td>2</td>\n",
       "      <td>chair</td>\n",
       "      <td>start a fire</td>\n",
       "      <td>2022040002</td>\n",
       "      <td>book</td>\n",
       "      <td>cmpl-4zrXKRorn55iQY1NXc3Vq3WKCLtyf</td>\n",
       "      <td>0.67</td>\n",
       "      <td>6.871257</td>\n",
       "      <td>6.382291</td>\n",
       "      <td>0.683055</td>\n",
       "      <td>0.639192</td>\n",
       "    </tr>\n",
       "    <tr>\n",
       "      <th>2</th>\n",
       "      <td>3</td>\n",
       "      <td>chair</td>\n",
       "      <td>prop up a table or chair leg</td>\n",
       "      <td>2022040003</td>\n",
       "      <td>book</td>\n",
       "      <td>cmpl-4zrXKRorn55iQY1NXc3Vq3WKCLtyf</td>\n",
       "      <td>0.67</td>\n",
       "      <td>4.980463</td>\n",
       "      <td>6.307006</td>\n",
       "      <td>0.297942</td>\n",
       "      <td>0.650515</td>\n",
       "    </tr>\n",
       "    <tr>\n",
       "      <th>3</th>\n",
       "      <td>4</td>\n",
       "      <td>chair</td>\n",
       "      <td>paperweight</td>\n",
       "      <td>2022040004</td>\n",
       "      <td>book</td>\n",
       "      <td>cmpl-4zrXKRorn55iQY1NXc3Vq3WKCLtyf</td>\n",
       "      <td>0.67</td>\n",
       "      <td>8.695191</td>\n",
       "      <td>8.987339</td>\n",
       "      <td>0.830964</td>\n",
       "      <td>0.939968</td>\n",
       "    </tr>\n",
       "    <tr>\n",
       "      <th>4</th>\n",
       "      <td>5</td>\n",
       "      <td>chair</td>\n",
       "      <td>make art such as by decoupaging it onto a canv...</td>\n",
       "      <td>2022040005</td>\n",
       "      <td>book</td>\n",
       "      <td>cmpl-4zrXKRorn55iQY1NXc3Vq3WKCLtyf</td>\n",
       "      <td>0.67</td>\n",
       "      <td>6.324841</td>\n",
       "      <td>5.784203</td>\n",
       "      <td>0.598833</td>\n",
       "      <td>0.540887</td>\n",
       "    </tr>\n",
       "    <tr>\n",
       "      <th>...</th>\n",
       "      <td>...</td>\n",
       "      <td>...</td>\n",
       "      <td>...</td>\n",
       "      <td>...</td>\n",
       "      <td>...</td>\n",
       "      <td>...</td>\n",
       "      <td>...</td>\n",
       "      <td>...</td>\n",
       "      <td>...</td>\n",
       "      <td>...</td>\n",
       "      <td>...</td>\n",
       "    </tr>\n",
       "    <tr>\n",
       "      <th>1638</th>\n",
       "      <td>1639</td>\n",
       "      <td>chair</td>\n",
       "      <td>rolls</td>\n",
       "      <td>20167316</td>\n",
       "      <td>tin can</td>\n",
       "      <td>BP20160002</td>\n",
       "      <td>NaN</td>\n",
       "      <td>8.034032</td>\n",
       "      <td>6.342345</td>\n",
       "      <td>0.765450</td>\n",
       "      <td>0.673499</td>\n",
       "    </tr>\n",
       "    <tr>\n",
       "      <th>1639</th>\n",
       "      <td>1640</td>\n",
       "      <td>chair</td>\n",
       "      <td>money box</td>\n",
       "      <td>20167317</td>\n",
       "      <td>tin can</td>\n",
       "      <td>BP20160002</td>\n",
       "      <td>NaN</td>\n",
       "      <td>7.089824</td>\n",
       "      <td>4.235904</td>\n",
       "      <td>0.694928</td>\n",
       "      <td>0.397266</td>\n",
       "    </tr>\n",
       "    <tr>\n",
       "      <th>1640</th>\n",
       "      <td>1641</td>\n",
       "      <td>chair</td>\n",
       "      <td>seat cover</td>\n",
       "      <td>20167318</td>\n",
       "      <td>tin can</td>\n",
       "      <td>BP20160002</td>\n",
       "      <td>NaN</td>\n",
       "      <td>5.782039</td>\n",
       "      <td>5.718820</td>\n",
       "      <td>0.422534</td>\n",
       "      <td>0.642658</td>\n",
       "    </tr>\n",
       "    <tr>\n",
       "      <th>1641</th>\n",
       "      <td>1642</td>\n",
       "      <td>chair</td>\n",
       "      <td>reflector on bicycle</td>\n",
       "      <td>20167319</td>\n",
       "      <td>tin can</td>\n",
       "      <td>BP20160002</td>\n",
       "      <td>NaN</td>\n",
       "      <td>6.752543</td>\n",
       "      <td>4.944438</td>\n",
       "      <td>0.663697</td>\n",
       "      <td>0.611948</td>\n",
       "    </tr>\n",
       "    <tr>\n",
       "      <th>1642</th>\n",
       "      <td>1643</td>\n",
       "      <td>chair</td>\n",
       "      <td>ashtray</td>\n",
       "      <td>20167320</td>\n",
       "      <td>tin can</td>\n",
       "      <td>BP20160002</td>\n",
       "      <td>NaN</td>\n",
       "      <td>8.091651</td>\n",
       "      <td>6.985996</td>\n",
       "      <td>0.717162</td>\n",
       "      <td>0.724210</td>\n",
       "    </tr>\n",
       "  </tbody>\n",
       "</table>\n",
       "<p>1643 rows × 11 columns</p>\n",
       "</div>"
      ],
      "text/plain": [
       "        id   item                                           response  \\\n",
       "0        1  chair                                           doorstop   \n",
       "1        2  chair                                       start a fire   \n",
       "2        3  chair                       prop up a table or chair leg   \n",
       "3        4  chair                                        paperweight   \n",
       "4        5  chair  make art such as by decoupaging it onto a canv...   \n",
       "...    ...    ...                                                ...   \n",
       "1638  1639  chair                                              rolls   \n",
       "1639  1640  chair                                          money box   \n",
       "1640  1641  chair                                         seat cover   \n",
       "1641  1642  chair                               reflector on bicycle   \n",
       "1642  1643  chair                                            ashtray   \n",
       "\n",
       "      response_id   object                       respondent_id  temperature  \\\n",
       "0      2022040001     book  cmpl-4zrXKRorn55iQY1NXc3Vq3WKCLtyf         0.67   \n",
       "1      2022040002     book  cmpl-4zrXKRorn55iQY1NXc3Vq3WKCLtyf         0.67   \n",
       "2      2022040003     book  cmpl-4zrXKRorn55iQY1NXc3Vq3WKCLtyf         0.67   \n",
       "3      2022040004     book  cmpl-4zrXKRorn55iQY1NXc3Vq3WKCLtyf         0.67   \n",
       "4      2022040005     book  cmpl-4zrXKRorn55iQY1NXc3Vq3WKCLtyf         0.67   \n",
       "...           ...      ...                                 ...          ...   \n",
       "1638     20167316  tin can                          BP20160002          NaN   \n",
       "1639     20167317  tin can                          BP20160002          NaN   \n",
       "1640     20167318  tin can                          BP20160002          NaN   \n",
       "1641     20167319  tin can                          BP20160002          NaN   \n",
       "1642     20167320  tin can                          BP20160002          NaN   \n",
       "\n",
       "      eucl_item_resp  eucl_objc_resp  cos_dist_item_resp  cos_dist_objc_resp  \n",
       "0           8.658492        8.365611            0.854830            0.847086  \n",
       "1           6.871257        6.382291            0.683055            0.639192  \n",
       "2           4.980463        6.307006            0.297942            0.650515  \n",
       "3           8.695191        8.987339            0.830964            0.939968  \n",
       "4           6.324841        5.784203            0.598833            0.540887  \n",
       "...              ...             ...                 ...                 ...  \n",
       "1638        8.034032        6.342345            0.765450            0.673499  \n",
       "1639        7.089824        4.235904            0.694928            0.397266  \n",
       "1640        5.782039        5.718820            0.422534            0.642658  \n",
       "1641        6.752543        4.944438            0.663697            0.611948  \n",
       "1642        8.091651        6.985996            0.717162            0.724210  \n",
       "\n",
       "[1643 rows x 11 columns]"
      ]
     },
     "execution_count": 66,
     "metadata": {},
     "output_type": "execute_result"
    }
   ],
   "source": [
    "dat"
   ]
  },
  {
   "cell_type": "code",
   "execution_count": 69,
   "id": "2068f6c8-34a5-4446-905b-79d63267e20d",
   "metadata": {},
   "outputs": [],
   "source": [
    "dat.to_csv(\"aut_semdis_input_w_dists.csv\")"
   ]
  },
  {
   "cell_type": "code",
   "execution_count": null,
   "id": "50484701-c17d-4784-9395-0ef4d4d648e3",
   "metadata": {},
   "outputs": [],
   "source": []
  }
 ],
 "metadata": {
  "kernelspec": {
   "display_name": "Python 3 (ipykernel)",
   "language": "python",
   "name": "python3"
  },
  "language_info": {
   "codemirror_mode": {
    "name": "ipython",
    "version": 3
   },
   "file_extension": ".py",
   "mimetype": "text/x-python",
   "name": "python",
   "nbconvert_exporter": "python",
   "pygments_lexer": "ipython3",
   "version": "3.9.7"
  }
 },
 "nbformat": 4,
 "nbformat_minor": 5
}
